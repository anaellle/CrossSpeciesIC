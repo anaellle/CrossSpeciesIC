{
 "cells": [
  {
   "cell_type": "markdown",
   "id": "06576251",
   "metadata": {},
   "source": [
    "# Generate Protein Embeddings\n",
    "\n",
    "As an example, here's how to proccess the frog reference proteome with ESM1b.\n",
    "\n",
    "You can find proteome fastas on ENSEMBL: https://uswest.ensembl.org/info/data/ftp/index.html\n",
    "\n",
    "We use a pretrained Transformer model from https://github.com/facebookresearch/esm. These models were trained on hundreds of millions of protein sequences from across the tree of life.\n",
    "\n",
    "**NOTE:** These protein embedding scripts require an older version of the ESM Repo: you should checkout commit:\n",
    "[`839c5b82c6cd9e18baa7a88dcbed3bd4b6d48e47`](https://github.com/facebookresearch/esm/commit/839c5b82c6cd9e18baa7a88dcbed3bd4b6d48e47)\n",
    "\n",
    "**Clone the ESM repo.**"
   ]
  },
  {
   "cell_type": "markdown",
   "id": "2d9f1222",
   "metadata": {},
   "source": [
    "## Step 1: Download reference proteome"
   ]
  },
  {
   "cell_type": "code",
   "execution_count": 1,
   "id": "6ef60cf4",
   "metadata": {},
   "outputs": [],
   "source": [
    "!mkdir data"
   ]
  },
  {
   "cell_type": "code",
   "execution_count": 1,
   "id": "0280ef79",
   "metadata": {},
   "outputs": [],
   "source": [
    "import os\n",
    "NAME_HUMAN = \"Homo_sapiens.GRCh38.pep.all\" # CHANGE THIS TO THE NAME OF THE REFERENCE PROTEOME YOU WANT\n",
    "NAME_MOUSE = \"Mus_musculus.GRCm39.pep.all\"\n",
    "NAME_FLY = \"Drosophila_melanogaster.BDGP6.32.pep.all\"\n",
    "DATA_PATH = os.path.abspath(os.getcwd()) + \"/data\" # PATH TO DATA DIRECTORY (YOU CAN USE THE ONE IN THIS DIRECTORY)\n",
    "ESM_PATH = \"/nfs/research/irene/anaelle/CrossSpeciesIC/esm/\" # MAKE SURE TO CHANGE THIS TO THE PATH YOU CLONED THE ESM REPO TO ESM PATH\n",
    "TORCH_HOME = \"/nfs/research/irene/anaelle/CrossSpeciesIC/SATURN/torch_home\" # MAKE SURE TO CHANGE THIS TO YOUR DESIRED DIRECTORY\n",
    "DEVICE=2 # GPU NUMBER, CHANGE THIS\n",
    "\n",
    "# PATH TO ENSMBL PROTEOME FASTA, CHANGE THIS\n",
    "FASTA_URL_H = \"http://ftp.ensembl.org/pub/release-105/fasta/homo_sapiens/pep/Homo_sapiens.GRCh38.pep.all.fa.gz\" \n",
    "FASTA_URL_M = \"http://ftp.ensembl.org/pub/release-105/fasta/mus_musculus/pep/Mus_musculus.GRCm39.pep.all.fa.gz\"\n",
    "FASTA_URL_F = \"http://ftp.ensembl.org/pub/release-105/fasta/drosophila_melanogaster/pep/Drosophila_melanogaster.BDGP6.32.pep.all.fa.gz\""
   ]
  },
  {
   "cell_type": "code",
   "execution_count": 2,
   "id": "3e61a2e9-1301-459a-9221-e54d544b7875",
   "metadata": {},
   "outputs": [
    {
     "data": {
      "text/plain": [
       "'/nfs/research/irene/anaelle/CrossSpeciesIC/SATURN/protein_embeddings/data'"
      ]
     },
     "execution_count": 2,
     "metadata": {},
     "output_type": "execute_result"
    }
   ],
   "source": [
    "DATA_PATH"
   ]
  },
  {
   "cell_type": "code",
   "execution_count": 3,
   "id": "b7af32df",
   "metadata": {},
   "outputs": [
    {
     "name": "stdout",
     "output_type": "stream",
     "text": [
      "WARNING: combining -O with -r or -p will mean that all downloaded content\n",
      "will be placed in the single file you specified.\n",
      "\n",
      "--2023-07-20 11:32:41--  http://ftp.ensembl.org/pub/release-105/fasta/homo_sapiens/pep/Homo_sapiens.GRCh38.pep.all.fa.gz\n",
      "Resolving ftp.ensembl.org (ftp.ensembl.org)... 193.62.193.139\n",
      "Connecting to ftp.ensembl.org (ftp.ensembl.org)|193.62.193.139|:80... connected.\n",
      "HTTP request sent, awaiting response... 200 OK\n",
      "Length: 14376754 (14M) [application/x-gzip]\n",
      "Saving to: ‘data/Homo_sapiens.GRCh38.pep.all.fa.gz’\n",
      "\n",
      "data/Homo_sapiens.G 100%[===================>]  13.71M  31.6MB/s    in 0.4s    \n",
      "\n",
      "2023-07-20 11:32:42 (31.6 MB/s) - ‘data/Homo_sapiens.GRCh38.pep.all.fa.gz’ saved [14376754/14376754]\n",
      "\n",
      "FINISHED --2023-07-20 11:32:42--\n",
      "Total wall clock time: 0.8s\n",
      "Downloaded: 1 files, 14M in 0.4s (31.6 MB/s)\n"
     ]
    }
   ],
   "source": [
    "!wget -r {FASTA_URL_H} \\\n",
    "        -O data/{NAME_HUMAN}.fa.gz"
   ]
  },
  {
   "cell_type": "code",
   "execution_count": 4,
   "id": "197bb9df-b68d-4ac0-ba0c-4e8e895aa6d8",
   "metadata": {},
   "outputs": [
    {
     "name": "stdout",
     "output_type": "stream",
     "text": [
      "WARNING: combining -O with -r or -p will mean that all downloaded content\n",
      "will be placed in the single file you specified.\n",
      "\n",
      "--2023-07-20 11:33:01--  http://ftp.ensembl.org/pub/release-105/fasta/mus_musculus/pep/Mus_musculus.GRCm39.pep.all.fa.gz\n",
      "Resolving ftp.ensembl.org (ftp.ensembl.org)... 193.62.193.139\n",
      "Connecting to ftp.ensembl.org (ftp.ensembl.org)|193.62.193.139|:80... connected.\n",
      "HTTP request sent, awaiting response... 200 OK\n",
      "Length: 11327006 (11M) [application/x-gzip]\n",
      "Saving to: ‘data/Mus_musculus.GRCm39.pep.all.fa.gz’\n",
      "\n",
      "data/Mus_musculus.G 100%[===================>]  10.80M  32.9MB/s    in 0.3s    \n",
      "\n",
      "2023-07-20 11:33:01 (32.9 MB/s) - ‘data/Mus_musculus.GRCm39.pep.all.fa.gz’ saved [11327006/11327006]\n",
      "\n",
      "FINISHED --2023-07-20 11:33:02--\n",
      "Total wall clock time: 0.5s\n",
      "Downloaded: 1 files, 11M in 0.3s (32.9 MB/s)\n"
     ]
    }
   ],
   "source": [
    "!wget -r {FASTA_URL_M} \\\n",
    "        -O data/{NAME_MOUSE}.fa.gz"
   ]
  },
  {
   "cell_type": "code",
   "execution_count": 3,
   "id": "49fb11eb-956b-4569-8c93-091886b6a55c",
   "metadata": {},
   "outputs": [
    {
     "name": "stdout",
     "output_type": "stream",
     "text": [
      "WARNING: combining -O with -r or -p will mean that all downloaded content\n",
      "will be placed in the single file you specified.\n",
      "\n",
      "--2023-07-27 13:59:06--  http://ftp.ensembl.org/pub/release-105/fasta/drosophila_melanogaster/pep/Drosophila_melanogaster.BDGP6.32.pep.all.fa.gz\n",
      "Resolving ftp.ensembl.org (ftp.ensembl.org)... 193.62.193.139\n",
      "Connecting to ftp.ensembl.org (ftp.ensembl.org)|193.62.193.139|:80... connected.\n",
      "HTTP request sent, awaiting response... 200 OK\n",
      "Length: 6343937 (6.0M) [application/x-gzip]\n",
      "Saving to: ‘data/Drosophila_melanogaster.BDGP6.32.pep.all.fa.gz’\n",
      "\n",
      "data/Drosophila_mel 100%[===================>]   6.05M  --.-KB/s    in 0.03s   \n",
      "\n",
      "2023-07-27 13:59:06 (237 MB/s) - ‘data/Drosophila_melanogaster.BDGP6.32.pep.all.fa.gz’ saved [6343937/6343937]\n",
      "\n",
      "FINISHED --2023-07-27 13:59:06--\n",
      "Total wall clock time: 0.07s\n",
      "Downloaded: 1 files, 6.0M in 0.03s (237 MB/s)\n"
     ]
    }
   ],
   "source": [
    "!wget -r {FASTA_URL_F} \\\n",
    "        -O data/{NAME_FLY}.fa.gz"
   ]
  },
  {
   "cell_type": "code",
   "execution_count": 5,
   "id": "88da8618",
   "metadata": {},
   "outputs": [],
   "source": [
    "!gunzip data/{NAME_HUMAN}.fa.gz"
   ]
  },
  {
   "cell_type": "code",
   "execution_count": 6,
   "id": "4eee8e41-1fc9-4ef3-8666-520e7cc4eca3",
   "metadata": {},
   "outputs": [],
   "source": [
    "!gunzip data/{NAME_MOUSE}.fa.gz"
   ]
  },
  {
   "cell_type": "code",
   "execution_count": 4,
   "id": "1edee77d-a2a8-4a06-a4e6-5428ae238c11",
   "metadata": {},
   "outputs": [],
   "source": [
    "!gunzip data/{NAME_FLY}.fa.gz"
   ]
  },
  {
   "cell_type": "markdown",
   "id": "04e037e9",
   "metadata": {},
   "source": [
    "## Step 2: Clean Fasta"
   ]
  },
  {
   "cell_type": "code",
   "execution_count": 7,
   "id": "c2913975",
   "metadata": {},
   "outputs": [
    {
     "name": "stdout",
     "output_type": "stream",
     "text": [
      "Number of original sequences = 117,909\n",
      "100%|████████████████████████████████| 117909/117909 [00:01<00:00, 99681.95it/s]\n",
      "Number of cleaned sequences = 117,779\n"
     ]
    }
   ],
   "source": [
    "!python clean_fasta.py \\\n",
    "--data_path=./data/{NAME_HUMAN}.fa \\\n",
    "--save_path=./data/{NAME_HUMAN}.clean.fa"
   ]
  },
  {
   "cell_type": "code",
   "execution_count": 8,
   "id": "23034666-301e-4f19-af2b-7618ebb1c181",
   "metadata": {},
   "outputs": [
    {
     "name": "stdout",
     "output_type": "stream",
     "text": [
      "Number of original sequences = 67,165\n",
      "100%|█████████████████████████████████| 67165/67165 [00:00<00:00, 145578.88it/s]\n",
      "Number of cleaned sequences = 67,071\n"
     ]
    }
   ],
   "source": [
    "!python clean_fasta.py \\\n",
    "--data_path=./data/{NAME_MOUSE}.fa \\\n",
    "--save_path=./data/{NAME_MOUSE}.clean.fa"
   ]
  },
  {
   "cell_type": "code",
   "execution_count": 5,
   "id": "00d387e4-8849-42bc-bbe6-fa4a0eb8c5bd",
   "metadata": {},
   "outputs": [
    {
     "name": "stdout",
     "output_type": "stream",
     "text": [
      "Number of original sequences = 30,719\n",
      "100%|█████████████████████████████████| 30719/30719 [00:00<00:00, 147976.91it/s]\n",
      "Number of cleaned sequences = 30,719\n"
     ]
    }
   ],
   "source": [
    "!python clean_fasta.py \\\n",
    "--data_path=./data/{NAME_FLY}.fa \\\n",
    "--save_path=./data/{NAME_FLY}.clean.fa"
   ]
  },
  {
   "cell_type": "markdown",
   "id": "6d011546",
   "metadata": {},
   "source": [
    "## Step 3: Run ESM"
   ]
  },
  {
   "cell_type": "markdown",
   "id": "874edd55-f087-4c2a-8ff6-433e318de1e6",
   "metadata": {},
   "source": [
    "### Runned with sh files"
   ]
  },
  {
   "cell_type": "raw",
   "id": "7a26977f-fa69-4813-ab31-965e54598b2c",
   "metadata": {},
   "source": [
    "# THE MODELS ARE VERY LARGE AND TAKE A WHILE TO RUN\n",
    "\n",
    "!export TORCH_HOME={TORCH_HOME}; cd {ESM_PATH}/scripts/; \\\n",
    "CUDA_VISIBLE_DEVICES={DEVICE} python extract.py esm1b_t33_650M_UR50S \\\n",
    "{DATA_PATH}/{NAME_HUMAN}.clean.fa \\\n",
    "{DATA_PATH}/{NAME_HUMAN}.clean.fa_esm1b \\\n",
    "--include mean  --truncate"
   ]
  },
  {
   "cell_type": "raw",
   "id": "54eb258d-769d-4608-b0f9-ce8ea251f85d",
   "metadata": {},
   "source": [
    "# THE MODELS ARE VERY LARGE AND TAKE A WHILE TO RUN\n",
    "\n",
    "!export TORCH_HOME={TORCH_HOME}; cd {ESM_PATH}/scripts/; \\\n",
    "CUDA_VISIBLE_DEVICES={DEVICE} python extract.py esm1b_t33_650M_UR50S \\\n",
    "{DATA_PATH}/{NAME_MOUSE}.clean.fa \\\n",
    "{DATA_PATH}/{NAME_MOUSE}.clean.fa_esm1b \\\n",
    "--include mean  --truncate"
   ]
  },
  {
   "cell_type": "raw",
   "id": "fd849066-e9f5-4b50-970a-bef51952f1b0",
   "metadata": {},
   "source": [
    "# THE MODELS ARE VERY LARGE AND TAKE A WHILE TO RUN\n",
    "\n",
    "!export TORCH_HOME={TORCH_HOME}; cd {ESM_PATH}/scripts/; \\\n",
    "CUDA_VISIBLE_DEVICES={DEVICE} python extract.py esm1b_t33_650M_UR50S \\\n",
    "{DATA_PATH}/{NAME_FLY}.clean.fa \\\n",
    "{DATA_PATH}/{NAME_FY}.clean.fa_esm1b \\\n",
    "--include mean  --truncate"
   ]
  },
  {
   "cell_type": "markdown",
   "id": "01247c6f",
   "metadata": {},
   "source": [
    "## Step 4: Convert to Embeddings File"
   ]
  },
  {
   "cell_type": "code",
   "execution_count": 11,
   "id": "f6700efc",
   "metadata": {},
   "outputs": [
    {
     "name": "stdout",
     "output_type": "stream",
     "text": [
      "100%|███████████████████████████████| 117909/117909 [00:00<00:00, 270859.54it/s]\n",
      "117909\n",
      "Number of gene symbols = 19,844\n",
      "Number of protein IDs = 116,411\n",
      "100%|██████████████████████████████████| 116411/116411 [05:50<00:00, 332.57it/s]\n",
      "data/Homo_sapiens.GRCh38.pep.all.clean.fa_esm1b/ENSP00000489813.1.pt\n",
      "100%|██████████████████████████████████| 19790/19790 [00:01<00:00, 15790.11it/s]\n"
     ]
    }
   ],
   "source": [
    "!python map_gene_symbol_to_protein_ids.py \\\n",
    "    --fasta_path ./data/{NAME_HUMAN}.fa \\\n",
    "    --save_path ./data/{NAME_HUMAN}.gene_symbol_to_protein_ID.json\n",
    "\n",
    "\n",
    "!python convert_protein_embeddings_to_gene_embeddings.py \\\n",
    "    --embedding_dir ./data/{NAME_HUMAN}.clean.fa_esm1b \\\n",
    "    --gene_symbol_to_protein_ids_path ./data/{NAME_HUMAN}.gene_symbol_to_protein_ID.json \\\n",
    "    --embedding_model ESM1b \\\n",
    "    --save_path ./data/{NAME_HUMAN}.gene_symbol_to_embedding_ESM1b.pt\n"
   ]
  },
  {
   "cell_type": "code",
   "execution_count": 12,
   "id": "8176485b-b72e-42b5-a861-e0faa73cbd59",
   "metadata": {},
   "outputs": [
    {
     "name": "stdout",
     "output_type": "stream",
     "text": [
      "100%|█████████████████████████████████| 67165/67165 [00:00<00:00, 294723.35it/s]\n",
      "67165\n",
      "Number of gene symbols = 22,380\n",
      "Number of protein IDs = 67,092\n",
      "100%|████████████████████████████████████| 67092/67092 [03:17<00:00, 340.11it/s]\n",
      "data/Mus_musculus.GRCm39.pep.all.clean.fa_esm1b/ENSMUSP00000152932.2.pt\n",
      "100%|██████████████████████████████████| 22324/22324 [00:00<00:00, 27503.76it/s]\n"
     ]
    }
   ],
   "source": [
    "!python map_gene_symbol_to_protein_ids.py \\\n",
    "    --fasta_path ./data/{NAME_MOUSE}.fa \\\n",
    "    --save_path ./data/{NAME_MOUSE}.gene_symbol_to_protein_ID.json\n",
    "\n",
    "\n",
    "!python convert_protein_embeddings_to_gene_embeddings.py \\\n",
    "    --embedding_dir ./data/{NAME_MOUSE}.clean.fa_esm1b \\\n",
    "    --gene_symbol_to_protein_ids_path ./data/{NAME_MOUSE}.gene_symbol_to_protein_ID.json \\\n",
    "    --embedding_model ESM1b \\\n",
    "    --save_path ./data/{NAME_MOUSE}.gene_symbol_to_embedding_ESM1b.pt\n"
   ]
  },
  {
   "cell_type": "code",
   "execution_count": 22,
   "id": "46439a3b-c333-41b1-be48-f97535a7d992",
   "metadata": {},
   "outputs": [
    {
     "name": "stdout",
     "output_type": "stream",
     "text": [
      "100%|█████████████████████████████████| 30719/30719 [00:00<00:00, 363756.75it/s]\n",
      "30719\n",
      "Number of gene symbols = 13,968\n",
      "Number of protein IDs = 30,719\n",
      "100%|███████████████████████████████████| 30719/30719 [00:22<00:00, 1388.09it/s]\n",
      "data/Drosophila_melanogaster.BDGP6.32.pep.all.clean.fa_esm1b/FBpp0110342.pt\n",
      "100%|██████████████████████████████████| 13968/13968 [00:00<00:00, 32928.88it/s]\n"
     ]
    }
   ],
   "source": [
    "!python map_gene_symbol_to_protein_ids.py \\\n",
    "    --fasta_path ./data/{NAME_FLY}.fa \\\n",
    "    --save_path ./data/{NAME_FLY}.gene_symbol_to_protein_ID.json\n",
    "\n",
    "\n",
    "!python convert_protein_embeddings_to_gene_embeddings.py \\\n",
    "    --embedding_dir ./data/{NAME_FLY}.clean.fa_esm1b \\\n",
    "    --gene_symbol_to_protein_ids_path ./data/{NAME_FLY}.gene_symbol_to_protein_ID.json \\\n",
    "    --embedding_model ESM1b \\\n",
    "    --save_path ./data/{NAME_FLY}.gene_symbol_to_embedding_ESM1b.pt"
   ]
  },
  {
   "cell_type": "markdown",
   "id": "fb28f620",
   "metadata": {},
   "source": [
    "## STEP 5: Running SPEAR"
   ]
  },
  {
   "cell_type": "code",
   "execution_count": 13,
   "id": "8c9a7a44",
   "metadata": {},
   "outputs": [
    {
     "data": {
      "text/plain": [
       "'/nfs/research/irene/anaelle/Scripts/SATURN/protein_embeddings/data/Homo_sapiens.GRCh38.pep.all.gene_symbol_to_embedding_ESM1b.pt'"
      ]
     },
     "execution_count": 13,
     "metadata": {},
     "output_type": "execute_result"
    }
   ],
   "source": [
    "# Your final embeddings will be located at: \n",
    "os.path.abspath(f\"./data/{NAME_HUMAN}.gene_symbol_to_embedding_ESM1b.pt\")"
   ]
  },
  {
   "cell_type": "code",
   "execution_count": 14,
   "id": "8691e406-f5cf-4273-8088-b9f31aaaf1b3",
   "metadata": {},
   "outputs": [
    {
     "data": {
      "text/plain": [
       "'/nfs/research/irene/anaelle/Scripts/SATURN/protein_embeddings/data/Mus_musculus.GRCm39.pep.all.gene_symbol_to_embedding_ESM1b.pt'"
      ]
     },
     "execution_count": 14,
     "metadata": {},
     "output_type": "execute_result"
    }
   ],
   "source": [
    "# Your final embeddings will be located at: \n",
    "os.path.abspath(f\"./data/{NAME_MOUSE}.gene_symbol_to_embedding_ESM1b.pt\")"
   ]
  },
  {
   "cell_type": "code",
   "execution_count": 23,
   "id": "e454d34f-06ec-4604-bbfc-7edd05959daa",
   "metadata": {},
   "outputs": [
    {
     "data": {
      "text/plain": [
       "'/nfs/research/irene/anaelle/Scripts/SATURN/protein_embeddings/data/Drosophila_melanogaster.BDGP6.32.pep.all.gene_symbol_to_embedding_ESM1b.pt'"
      ]
     },
     "execution_count": 23,
     "metadata": {},
     "output_type": "execute_result"
    }
   ],
   "source": [
    "# Your final embeddings will be located at: \n",
    "os.path.abspath(f\"./data/{NAME_FLY}.gene_symbol_to_embedding_ESM1b.pt\")"
   ]
  },
  {
   "cell_type": "code",
   "execution_count": null,
   "id": "7dd9f8a7-93ad-44a7-aaf2-c835f7353ef9",
   "metadata": {},
   "outputs": [],
   "source": []
  }
 ],
 "metadata": {
  "kernelspec": {
   "display_name": "Python 3 (ipykernel)",
   "language": "python",
   "name": "python3"
  },
  "language_info": {
   "codemirror_mode": {
    "name": "ipython",
    "version": 3
   },
   "file_extension": ".py",
   "mimetype": "text/x-python",
   "name": "python",
   "nbconvert_exporter": "python",
   "pygments_lexer": "ipython3",
   "version": "3.10.10"
  }
 },
 "nbformat": 4,
 "nbformat_minor": 5
}
